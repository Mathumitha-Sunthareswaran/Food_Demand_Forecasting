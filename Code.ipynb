{
 "cells": [
  {
   "cell_type": "markdown",
   "id": "681c6874",
   "metadata": {},
   "source": [
    "## Data Preprocessing "
   ]
  },
  {
   "cell_type": "code",
   "execution_count": 1,
   "id": "7afa72e7",
   "metadata": {},
   "outputs": [],
   "source": [
    "#Required libraries \n",
    "import pandas as pd\n",
    "from sklearn.preprocessing import LabelEncoder\n",
    "\n",
    "# Load the data\n",
    "train_data = pd.read_csv(\"train.csv\")\n",
    "test_data = pd.read_csv(\"test.csv\")\n",
    "center_info = pd.read_csv(\"fulfilment_center_info.csv\")\n",
    "meal_info = pd.read_csv(\"meal_info.csv\")\n",
    "\n",
    "# Merge data for both train and test\n",
    "train_data = train_data.merge(center_info, on=\"center_id\")\n",
    "test_data = test_data.merge(center_info, on=\"center_id\")\n",
    "train_data = train_data.merge(meal_info, on=\"meal_id\")\n",
    "test_data = test_data.merge(meal_info, on=\"meal_id\")\n",
    "\n",
    "# Handle missing values if any\n",
    "train_data.fillna(0, inplace=True)\n",
    "test_data.fillna(0, inplace=True)\n",
    "\n",
    "# Encode categorical variables using Label Encoding\n",
    "label_encoder = LabelEncoder()\n",
    "train_data[\"center_type\"] = label_encoder.fit_transform(train_data[\"center_type\"])\n",
    "test_data[\"center_type\"] = label_encoder.transform(test_data[\"center_type\"])\n",
    "train_data[\"category\"] = label_encoder.fit_transform(train_data[\"category\"])\n",
    "test_data[\"category\"] = label_encoder.transform(test_data[\"category\"])\n",
    "train_data[\"cuisine\"] = label_encoder.fit_transform(train_data[\"cuisine\"])\n",
    "test_data[\"cuisine\"] = label_encoder.transform(test_data[\"cuisine\"])\n"
   ]
  },
  {
   "cell_type": "markdown",
   "id": "8f57170a",
   "metadata": {},
   "source": [
    "## Feature Engineering "
   ]
  },
  {
   "cell_type": "code",
   "execution_count": 2,
   "id": "54f41aaa",
   "metadata": {},
   "outputs": [],
   "source": [
    "\n",
    "# Calculate discount percentage\n",
    "train_data[\"discount_percent\"] = ((train_data[\"base_price\"] - train_data[\"checkout_price\"]) / train_data[\"base_price\"]) * 100\n",
    "test_data[\"discount_percent\"] = ((test_data[\"base_price\"] - test_data[\"checkout_price\"]) / test_data[\"base_price\"]) * 100\n",
    "\n",
    "train_data[\"discount_flag\"] = (train_data[\"checkout_price\"] < train_data[\"base_price\"]).astype(int)\n",
    "test_data[\"discount_flag\"] = (test_data[\"checkout_price\"] < test_data[\"base_price\"]).astype(int)\n",
    "\n",
    "train_data[\"discount_amount\"] = train_data[\"base_price\"] - train_data[\"checkout_price\"]\n",
    "test_data[\"discount_amount\"] = test_data[\"base_price\"] - test_data[\"checkout_price\"]\n",
    "\n",
    "train_data[\"discount_duration\"] = train_data.groupby([\"meal_id\"])[\"discount_flag\"].cumsum()\n",
    "test_data[\"discount_duration\"] = test_data.groupby([\"meal_id\"])[\"discount_flag\"].cumsum()\n",
    "\n"
   ]
  },
  {
   "cell_type": "markdown",
   "id": "38b99989",
   "metadata": {},
   "source": [
    "# # Train a model"
   ]
  },
  {
   "cell_type": "code",
   "execution_count": 3,
   "id": "99d16417",
   "metadata": {},
   "outputs": [
    {
     "name": "stdout",
     "output_type": "stream",
     "text": [
      "RMSLE on validation set: 0.4961848877140298\n"
     ]
    }
   ],
   "source": [
    "#Required Libraries\n",
    "from sklearn.ensemble import RandomForestRegressor\n",
    "from sklearn.model_selection import train_test_split\n",
    "from sklearn.metrics import mean_squared_log_error\n",
    "import numpy as np\n",
    "\n",
    "# Define features and target variable\n",
    "features = [\"week\", \"center_id\", \"meal_id\", \"checkout_price\", \"base_price\", \n",
    "            \"emailer_for_promotion\", \"homepage_featured\", \"center_type\", \n",
    "            \"op_area\", \"category\", \"cuisine\", \"discount_percent\"]\n",
    "                \n",
    "X = train_data[features]\n",
    "y = train_data[\"num_orders\"]\n",
    "\n",
    "# Split data into training and validation sets\n",
    "X_train, X_val, y_train, y_val = train_test_split(X, y, test_size=0.2, random_state=42)\n",
    "\n",
    "# Train the model\n",
    "model = RandomForestRegressor(n_estimators=100, random_state=42)\n",
    "model.fit(X_train, y_train)\n",
    "\n",
    "# Predict on the validation set\n",
    "y_pred = model.predict(X_val)\n",
    "\n",
    "# Calculate RMSLE\n",
    "rmsle = np.sqrt(mean_squared_log_error(y_val, y_pred))\n",
    "print(f\"RMSLE on validation set: {rmsle}\")\n"
   ]
  },
  {
   "cell_type": "markdown",
   "id": "9c24c350",
   "metadata": {},
   "source": [
    "## Prediction "
   ]
  },
  {
   "cell_type": "code",
   "execution_count": 4,
   "id": "72df6da2",
   "metadata": {},
   "outputs": [],
   "source": [
    "\n",
    "# Define test features\n",
    "X_test = test_data[features]\n",
    "\n",
    "# Make predictions for Weeks 146-155\n",
    "test_predictions = model.predict(X_test)\n",
    "\n",
    "# Ensure predictions are non-negative (since you can't have negative orders)\n",
    "test_predictions = np.maximum(test_predictions, 0)\n"
   ]
  },
  {
   "cell_type": "markdown",
   "id": "cbacf536",
   "metadata": {},
   "source": [
    "## Results "
   ]
  },
  {
   "cell_type": "code",
   "execution_count": 5,
   "id": "072413d9",
   "metadata": {},
   "outputs": [],
   "source": [
    "\n",
    "# Create a DataFrame with ID and predicted number of orders\n",
    "submission_df = pd.DataFrame({\"id\": test_data[\"id\"], \"num_orders\": test_predictions})\n",
    "\n",
    "# Save the submission file\n",
    "submission_df.to_csv(\"Submission.csv\", index=False)\n"
   ]
  }
 ],
 "metadata": {
  "kernelspec": {
   "display_name": "Python 3 (ipykernel)",
   "language": "python",
   "name": "python3"
  },
  "language_info": {
   "codemirror_mode": {
    "name": "ipython",
    "version": 3
   },
   "file_extension": ".py",
   "mimetype": "text/x-python",
   "name": "python",
   "nbconvert_exporter": "python",
   "pygments_lexer": "ipython3",
   "version": "3.10.9"
  }
 },
 "nbformat": 4,
 "nbformat_minor": 5
}
